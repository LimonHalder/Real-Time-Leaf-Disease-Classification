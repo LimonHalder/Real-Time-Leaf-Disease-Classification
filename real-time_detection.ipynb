{
 "cells": [
  {
   "cell_type": "code",
   "execution_count": null,
   "id": "ff6ae935",
   "metadata": {},
   "outputs": [],
   "source": [
    "import itertools, time, os, numpy  as np,sys\n",
    "from PIL import Image\n",
    "import tensorflow as tf\n",
    "import cv2\n",
    "#from tflite_runtime.interpreter import Interpreter\n",
    "\n",
    "\n",
    "def lite_model(interpreter,images):\n",
    "  interpreter.allocate_tensors()\n",
    "  interpreter.set_tensor(interpreter.get_input_details()[0]['index'], images)\n",
    "  interpreter.invoke()\n",
    "  return interpreter.get_tensor(interpreter.get_output_details()[0]['index'])\n",
    "\n",
    "\n",
    "def load_labels(path): # Read the labels from the text file as a Python list.\n",
    "  with open(path, 'r') as f:\n",
    "    return [line.strip() for i, line in enumerate(f.readlines())]\n",
    "\n",
    "class_names =  load_labels(\"labelmap.txt\")\n",
    "\n",
    "path_to_tflite = \"model.tflite\"\n",
    "\n",
    "def detect_from_camera():\n",
    "    interpreter = tf.lite.Interpreter( path_to_tflite )\n",
    "    #interpreter = Interpreter( path_to_tflite)\n",
    "    interpreter.allocate_tensors()\n",
    "    _, height, width, _ = interpreter.get_input_details()[0]['shape']\n",
    "    print(\"Image Shape (\", width, \",\", height, \")\")\n",
    "\n",
    "    cap = cv2.VideoCapture(0)  \n",
    "    while True:\n",
    "        # capture image\n",
    "        ret, img_org = cap.read()\n",
    "        #\t\tcv2.imshow('image', img_org)\n",
    "        key = cv2.waitKey(1)\n",
    "        if key == 27:  # ESC\n",
    "            break\n",
    "\n",
    "        # prepara input image\n",
    "        img = cv2.cvtColor(img_org, cv2.COLOR_BGR2RGB)\n",
    "        img = cv2.resize(img, (244, 244))\n",
    "        img = img.astype(np.float32)\n",
    "\n",
    "        probs_lite = lite_model( interpreter,np.expand_dims(img, axis=0)/255 )[0]\n",
    "        print ( probs_lite )\n",
    "\n",
    "        label_index= np.argmax(probs_lite)\n",
    "        score = tf.nn.softmax(probs_lite)\n",
    "        print(label_index)\n",
    "        print(\n",
    "          \"This image most likely belongs to {} with a {:.2f} percent confidence.\"\n",
    "          .format(class_names[label_index], 100 * np.max(score))\n",
    "        )\n",
    "\n",
    "\n",
    "if __name__ == '__main__':\n",
    "\tdetect_from_camera()"
   ]
  },
  {
   "cell_type": "code",
   "execution_count": null,
   "id": "f03853ec",
   "metadata": {},
   "outputs": [],
   "source": []
  }
 ],
 "metadata": {
  "kernelspec": {
   "display_name": "Python 3 (ipykernel)",
   "language": "python",
   "name": "python3"
  },
  "language_info": {
   "codemirror_mode": {
    "name": "ipython",
    "version": 3
   },
   "file_extension": ".py",
   "mimetype": "text/x-python",
   "name": "python",
   "nbconvert_exporter": "python",
   "pygments_lexer": "ipython3",
   "version": "3.10.4"
  }
 },
 "nbformat": 4,
 "nbformat_minor": 5
}
